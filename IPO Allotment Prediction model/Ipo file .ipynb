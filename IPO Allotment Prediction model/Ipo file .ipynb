{
 "cells": [
  {
   "cell_type": "markdown",
   "id": "f3698172-4109-44bb-a8f0-f28310028b4e",
   "metadata": {},
   "source": [
    "Step 1: Import Libraries\n"
   ]
  },
  {
   "cell_type": "code",
   "execution_count": 6,
   "id": "789b1f22-bd45-497a-8a25-288ba53e323d",
   "metadata": {},
   "outputs": [
    {
     "ename": "ModuleNotFoundError",
     "evalue": "No module named 'xgboost'",
     "output_type": "error",
     "traceback": [
      "\u001b[0;31m---------------------------------------------------------------------------\u001b[0m",
      "\u001b[0;31mModuleNotFoundError\u001b[0m                       Traceback (most recent call last)",
      "Cell \u001b[0;32mIn[6], line 14\u001b[0m\n\u001b[1;32m     11\u001b[0m \u001b[38;5;28;01mfrom\u001b[39;00m\u001b[38;5;250m \u001b[39m\u001b[38;5;21;01msklearn\u001b[39;00m\u001b[38;5;21;01m.\u001b[39;00m\u001b[38;5;21;01mimpute\u001b[39;00m\u001b[38;5;250m \u001b[39m\u001b[38;5;28;01mimport\u001b[39;00m SimpleImputer\n\u001b[1;32m     12\u001b[0m \u001b[38;5;28;01mfrom\u001b[39;00m\u001b[38;5;250m \u001b[39m\u001b[38;5;21;01msklearn\u001b[39;00m\u001b[38;5;21;01m.\u001b[39;00m\u001b[38;5;21;01mmetrics\u001b[39;00m\u001b[38;5;250m \u001b[39m\u001b[38;5;28;01mimport\u001b[39;00m roc_auc_score, roc_curve, confusion_matrix, classification_report\n\u001b[0;32m---> 14\u001b[0m \u001b[38;5;28;01mfrom\u001b[39;00m\u001b[38;5;250m \u001b[39m\u001b[38;5;21;01mxgboost\u001b[39;00m\u001b[38;5;250m \u001b[39m\u001b[38;5;28;01mimport\u001b[39;00m XGBClassifier\n",
      "\u001b[0;31mModuleNotFoundError\u001b[0m: No module named 'xgboost'"
     ]
    }
   ],
   "source": [
    "# Import Libraries\n",
    "import pandas as pd\n",
    "import numpy as np\n",
    "import matplotlib.pyplot as plt\n",
    "import seaborn as sns\n",
    "\n",
    "from sklearn.model_selection import train_test_split, GridSearchCV\n",
    "from sklearn.pipeline import Pipeline\n",
    "from sklearn.compose import ColumnTransformer\n",
    "from sklearn.preprocessing import StandardScaler, OneHotEncoder\n",
    "from sklearn.impute import SimpleImputer\n",
    "from sklearn.metrics import roc_auc_score, roc_curve, confusion_matrix, classification_report\n",
    "\n",
    "from xgboost import XGBClassifier"
   ]
  },
  {
   "cell_type": "markdown",
   "id": "2b41559b-1b3c-4adc-85c9-47bedea0141c",
   "metadata": {},
   "source": [
    "Step 2: Load and Explore Data\n"
   ]
  },
  {
   "cell_type": "code",
   "execution_count": 9,
   "id": "39c33fe4-0ae2-4035-a6bf-910a56a80094",
   "metadata": {},
   "outputs": [
    {
     "name": "stdout",
     "output_type": "stream",
     "text": [
      "   Unnamed: 0 Unnamed: 0_level_0    Issue Details          Issue Details.1  \\\n",
      "0         NaN               Date         IPO Name  Issue Size  (in crores)   \n",
      "1         0.0         17-10-2022  Electronics Mar                      500   \n",
      "2         1.0         26-09-2022  Harsha Engineer                      755   \n",
      "3         2.0         15-09-2022              TMB                      792   \n",
      "4         3.0         06-09-2022  Dreamfolks Serv                    562.1   \n",
      "\n",
      "  Subscription Subscription.1 Subscription.2 Subscription.3  Price  \\\n",
      "0          QIB            HNI            RII          Total  Issue   \n",
      "1        58.81          15.39           8.27          24.23     59   \n",
      "2       113.82          40.36          12.44          47.19    330   \n",
      "3         0.51           1.77           3.44           1.39    525   \n",
      "4        27.48          14.18          24.19          23.25    326   \n",
      "\n",
      "        Price.1        Price.2           Price.3 Price.4             Price.5  \n",
      "0  Listing Open  Listing Close  Listing Gains(%)     CMP  Current  Gains (%)  \n",
      "1          85.9          84.45             43.14    91.9               55.76  \n",
      "2           495          485.9             47.24     415               25.76  \n",
      "3        480.05         508.45             -3.15  508.05               -3.23  \n",
      "4           455         462.65             41.92   417.5               28.07  \n",
      "                               Name Listing_Date  Issue_Price  Listing_Price  \\\n",
      "0                   Neetu Yoshi Ltd   2025-07-04         75.0            0.0   \n",
      "1          Adcounty Media India Ltd   2025-07-04         85.0            0.0   \n",
      "2         Indogulf Cropsciences Ltd   2025-07-03        111.0          111.0   \n",
      "3                   Pro FX Tech Ltd   2025-07-03         87.0           95.0   \n",
      "4    Moving Media Entertainment Ltd   2025-07-03         70.0           71.0   \n",
      "..                              ...          ...          ...            ...   \n",
      "370         Veerkrupa Jewellers Ltd   2022-07-18         27.0           27.0   \n",
      "371      SKP Bearing Industries Ltd   2022-07-13         70.0           73.0   \n",
      "372          B-Right RealEstate Ltd   2022-07-13        153.0          155.0   \n",
      "373            Jayant Infratech Ltd   2022-07-13         67.0           76.0   \n",
      "374                 Kesar India Ltd   2022-07-12        170.0          172.5   \n",
      "\n",
      "        LTP  Returns  \n",
      "0    110.25    47.00  \n",
      "1    136.50    60.59  \n",
      "2    109.00    -1.80  \n",
      "3    104.00    19.54  \n",
      "4     76.00     8.57  \n",
      "..      ...      ...  \n",
      "370    0.95   -96.48  \n",
      "371  220.00   214.29  \n",
      "372  347.00   126.80  \n",
      "373   86.55    29.18  \n",
      "374  619.00   264.12  \n",
      "\n",
      "[375 rows x 6 columns]\n",
      "Unnamed: 0            1\n",
      "Unnamed: 0_level_0    0\n",
      "Issue Details         0\n",
      "Issue Details.1       0\n",
      "Subscription          0\n",
      "Subscription.1        0\n",
      "Subscription.2        0\n",
      "Subscription.3        0\n",
      "Price                 0\n",
      "Price.1               0\n",
      "Price.2               0\n",
      "Price.3               0\n",
      "Price.4               0\n",
      "Price.5               2\n",
      "dtype: int64\n",
      "Name             0\n",
      "Listing_Date     0\n",
      "Issue_Price      0\n",
      "Listing_Price    0\n",
      "LTP              1\n",
      "Returns          2\n",
      "dtype: int64\n"
     ]
    }
   ],
   "source": [
    "# Load Datasets\n",
    "ipo = pd.read_csv(\"ipo.csv\")\n",
    "cleaned_ipo = pd.read_csv(\"cleaned_ipo_data 2022-25.csv\")\n",
    "\n",
    "# Display First Few Rows\n",
    "print(ipo.head())\n",
    "print(cleaned_ipo.head(380))\n",
    "\n",
    "# Check for Missing Values\n",
    "print(ipo.isnull().sum())\n",
    "print(cleaned_ipo.isnull().sum())"
   ]
  },
  {
   "cell_type": "markdown",
   "id": "29bb895c-a486-4044-8837-f3aa88a6ef6f",
   "metadata": {},
   "source": [
    "Combine datasets\n"
   ]
  },
  {
   "cell_type": "code",
   "execution_count": 10,
   "id": "d7bdd5b9-fa81-4a76-876c-0a8c4ba42787",
   "metadata": {},
   "outputs": [
    {
     "ename": "ModuleNotFoundError",
     "evalue": "No module named 'fuzzywuzzy'",
     "output_type": "error",
     "traceback": [
      "\u001b[0;31m---------------------------------------------------------------------------\u001b[0m",
      "\u001b[0;31mModuleNotFoundError\u001b[0m                       Traceback (most recent call last)",
      "Cell \u001b[0;32mIn[10], line 1\u001b[0m\n\u001b[0;32m----> 1\u001b[0m \u001b[38;5;28;01mfrom\u001b[39;00m\u001b[38;5;250m \u001b[39m\u001b[38;5;21;01mfuzzywuzzy\u001b[39;00m\u001b[38;5;250m \u001b[39m\u001b[38;5;28;01mimport\u001b[39;00m process\n\u001b[1;32m      3\u001b[0m \u001b[38;5;66;03m# Fuzzy Match Company Names\u001b[39;00m\n\u001b[1;32m      4\u001b[0m \u001b[38;5;28;01mdef\u001b[39;00m\u001b[38;5;250m \u001b[39m\u001b[38;5;21mfuzzy_merge\u001b[39m(df1, df2, key1, key2, threshold\u001b[38;5;241m=\u001b[39m\u001b[38;5;241m80\u001b[39m):\n",
      "\u001b[0;31mModuleNotFoundError\u001b[0m: No module named 'fuzzywuzzy'"
     ]
    }
   ],
   "source": [
    "from fuzzywuzzy import process\n",
    "\n",
    "# Fuzzy Match Company Names\n",
    "def fuzzy_merge(df1, df2, key1, key2, threshold=80):\n",
    "    matches = []\n",
    "    for name in df1[key1]:\n",
    "        match, score = process.extractOne(name, df2[key2])\n",
    "        if score >= threshold:\n",
    "            matches.append(match)\n",
    "        else:\n",
    "            matches.append(None)\n",
    "    df1['matched_name'] = matches\n",
    "    return df1.merge(df2, left_on='matched_name', right_on=key2, how='inner')\n",
    "\n",
    "combined = fuzzy_merge(ipo, cleaned_ipo, 'IPO Name', 'Name')\n",
    "\n",
    "# Display Combined Dataset\n",
    "print(combined.head())"
   ]
  },
  {
   "cell_type": "markdown",
   "id": "51779ba6-48dd-4889-9bc3-55e29218e6c2",
   "metadata": {},
   "source": [
    " preprocess the data."
   ]
  },
  {
   "cell_type": "code",
   "execution_count": 11,
   "id": "9c58c3df-d990-4c21-8c06-aa360b557a14",
   "metadata": {},
   "outputs": [
    {
     "ename": "NameError",
     "evalue": "name 'combined' is not defined",
     "output_type": "error",
     "traceback": [
      "\u001b[0;31m---------------------------------------------------------------------------\u001b[0m",
      "\u001b[0;31mNameError\u001b[0m                                 Traceback (most recent call last)",
      "Cell \u001b[0;32mIn[11], line 2\u001b[0m\n\u001b[1;32m      1\u001b[0m \u001b[38;5;66;03m# Target Variable (Binary)\u001b[39;00m\n\u001b[0;32m----> 2\u001b[0m combined[\u001b[38;5;124m'\u001b[39m\u001b[38;5;124mTarget\u001b[39m\u001b[38;5;124m'\u001b[39m] \u001b[38;5;241m=\u001b[39m ((combined[\u001b[38;5;124m'\u001b[39m\u001b[38;5;124mListing Gains(\u001b[39m\u001b[38;5;124m%\u001b[39m\u001b[38;5;124m)\u001b[39m\u001b[38;5;124m'\u001b[39m]\u001b[38;5;241m.\u001b[39mfillna(\u001b[38;5;241m0\u001b[39m) \u001b[38;5;241m>\u001b[39m \u001b[38;5;241m0\u001b[39m) \u001b[38;5;241m|\u001b[39m (combined[\u001b[38;5;124m'\u001b[39m\u001b[38;5;124mReturns\u001b[39m\u001b[38;5;124m'\u001b[39m]\u001b[38;5;241m.\u001b[39mfillna(\u001b[38;5;241m0\u001b[39m) \u001b[38;5;241m>\u001b[39m \u001b[38;5;241m0\u001b[39m))\u001b[38;5;241m.\u001b[39mastype(\u001b[38;5;28mint\u001b[39m)\n\u001b[1;32m      4\u001b[0m \u001b[38;5;66;03m# Log Transform Skewed Features\u001b[39;00m\n\u001b[1;32m      5\u001b[0m combined[\u001b[38;5;124m'\u001b[39m\u001b[38;5;124mLog_Issue_Size\u001b[39m\u001b[38;5;124m'\u001b[39m] \u001b[38;5;241m=\u001b[39m np\u001b[38;5;241m.\u001b[39mlog1p(combined[\u001b[38;5;124m'\u001b[39m\u001b[38;5;124mIssue Size (in crores)\u001b[39m\u001b[38;5;124m'\u001b[39m])\n",
      "\u001b[0;31mNameError\u001b[0m: name 'combined' is not defined"
     ]
    }
   ],
   "source": [
    "# Target Variable (Binary)\n",
    "combined['Target'] = ((combined['Listing Gains(%)'].fillna(0) > 0) | (combined['Returns'].fillna(0) > 0)).astype(int)\n",
    "\n",
    "# Log Transform Skewed Features\n",
    "combined['Log_Issue_Size'] = np.log1p(combined['Issue Size (in crores)'])\n",
    "\n",
    "# Investor Category (Categorical)\n",
    "combined['Investor_Category'] = pd.cut(\n",
    "    combined['RII'], \n",
    "    bins=[-np.inf, 50, 100, np.inf], \n",
    "    labels=['Retail', 'HNI', 'Institutional']\n",
    ")\n",
    "\n",
    "# Drop Unnecessary Columns\n",
    "combined = combined[['Log_Issue_Size', 'Total', 'Investor_Category', 'Target']]"
   ]
  },
  {
   "cell_type": "markdown",
   "id": "7bfc60ae-24c2-4c19-bdf8-06a623d58ac8",
   "metadata": {},
   "source": [
    "Step 5: Train-Test Split"
   ]
  },
  {
   "cell_type": "code",
   "execution_count": 12,
   "id": "286b51cd-06a3-4b0a-87c5-b90ca6956f95",
   "metadata": {},
   "outputs": [
    {
     "ename": "NameError",
     "evalue": "name 'combined' is not defined",
     "output_type": "error",
     "traceback": [
      "\u001b[0;31m---------------------------------------------------------------------------\u001b[0m",
      "\u001b[0;31mNameError\u001b[0m                                 Traceback (most recent call last)",
      "Cell \u001b[0;32mIn[12], line 2\u001b[0m\n\u001b[1;32m      1\u001b[0m \u001b[38;5;66;03m# Define Features and Target\u001b[39;00m\n\u001b[0;32m----> 2\u001b[0m X \u001b[38;5;241m=\u001b[39m combined\u001b[38;5;241m.\u001b[39mdrop(columns\u001b[38;5;241m=\u001b[39m[\u001b[38;5;124m'\u001b[39m\u001b[38;5;124mTarget\u001b[39m\u001b[38;5;124m'\u001b[39m])\n\u001b[1;32m      3\u001b[0m y \u001b[38;5;241m=\u001b[39m combined[\u001b[38;5;124m'\u001b[39m\u001b[38;5;124mTarget\u001b[39m\u001b[38;5;124m'\u001b[39m]\n\u001b[1;32m      5\u001b[0m \u001b[38;5;66;03m# Train-Test Split\u001b[39;00m\n",
      "\u001b[0;31mNameError\u001b[0m: name 'combined' is not defined"
     ]
    }
   ],
   "source": [
    "# Define Features and Target\n",
    "X = combined.drop(columns=['Target'])\n",
    "y = combined['Target']\n",
    "\n",
    "# Train-Test Split\n",
    "X_train, X_test, y_train, y_test = train_test_split(X, y, test_size=0.2, random_state=42, stratify=y)"
   ]
  },
  {
   "cell_type": "markdown",
   "id": "33825614-0317-452d-85de-49bfbe4c61d9",
   "metadata": {},
   "source": [
    "Step 6: Build Pipeline"
   ]
  },
  {
   "cell_type": "code",
   "execution_count": 13,
   "id": "8ae74e76-ce71-42cd-b967-59fa6494687a",
   "metadata": {},
   "outputs": [
    {
     "ename": "NameError",
     "evalue": "name 'XGBClassifier' is not defined",
     "output_type": "error",
     "traceback": [
      "\u001b[0;31m---------------------------------------------------------------------------\u001b[0m",
      "\u001b[0;31mNameError\u001b[0m                                 Traceback (most recent call last)",
      "Cell \u001b[0;32mIn[13], line 23\u001b[0m\n\u001b[1;32m     15\u001b[0m preprocessor \u001b[38;5;241m=\u001b[39m ColumnTransformer([\n\u001b[1;32m     16\u001b[0m     (\u001b[38;5;124m'\u001b[39m\u001b[38;5;124mnum\u001b[39m\u001b[38;5;124m'\u001b[39m, numerical_pipeline, numerical_features),\n\u001b[1;32m     17\u001b[0m     (\u001b[38;5;124m'\u001b[39m\u001b[38;5;124mcat\u001b[39m\u001b[38;5;124m'\u001b[39m, categorical_pipeline, categorical_features)\n\u001b[1;32m     18\u001b[0m ])\n\u001b[1;32m     20\u001b[0m \u001b[38;5;66;03m# Full Pipeline with Model\u001b[39;00m\n\u001b[1;32m     21\u001b[0m model \u001b[38;5;241m=\u001b[39m Pipeline([\n\u001b[1;32m     22\u001b[0m     (\u001b[38;5;124m'\u001b[39m\u001b[38;5;124mpreprocessor\u001b[39m\u001b[38;5;124m'\u001b[39m, preprocessor),\n\u001b[0;32m---> 23\u001b[0m     (\u001b[38;5;124m'\u001b[39m\u001b[38;5;124mclassifier\u001b[39m\u001b[38;5;124m'\u001b[39m, XGBClassifier(random_state\u001b[38;5;241m=\u001b[39m\u001b[38;5;241m42\u001b[39m))\n\u001b[1;32m     24\u001b[0m ])\n",
      "\u001b[0;31mNameError\u001b[0m: name 'XGBClassifier' is not defined"
     ]
    }
   ],
   "source": [
    "# Preprocessing Pipelines\n",
    "numerical_features = ['Log_Issue_Size', 'Total']\n",
    "categorical_features = ['Investor_Category']\n",
    "\n",
    "numerical_pipeline = Pipeline([\n",
    "    ('imputer', SimpleImputer(strategy='median')),\n",
    "    ('scaler', StandardScaler())\n",
    "])\n",
    "\n",
    "categorical_pipeline = Pipeline([\n",
    "    ('imputer', SimpleImputer(strategy='most_frequent')),\n",
    "    ('onehot', OneHotEncoder(handle_unknown='ignore'))\n",
    "])\n",
    "\n",
    "preprocessor = ColumnTransformer([\n",
    "    ('num', numerical_pipeline, numerical_features),\n",
    "    ('cat', categorical_pipeline, categorical_features)\n",
    "])\n",
    "\n",
    "# Full Pipeline with Model\n",
    "model = Pipeline([\n",
    "    ('preprocessor', preprocessor),\n",
    "    ('classifier', XGBClassifier(random_state=42))\n",
    "])"
   ]
  },
  {
   "cell_type": "markdown",
   "id": "4cdc2f13-1964-4ab6-8680-a6f38c01dc55",
   "metadata": {},
   "source": [
    "Step 7: Hyperparameter Tuning"
   ]
  },
  {
   "cell_type": "code",
   "execution_count": 15,
   "id": "3f3eb469-0603-430d-bf7d-8ca9c824fef3",
   "metadata": {},
   "outputs": [
    {
     "ename": "NameError",
     "evalue": "name 'model' is not defined",
     "output_type": "error",
     "traceback": [
      "\u001b[0;31m---------------------------------------------------------------------------\u001b[0m",
      "\u001b[0;31mNameError\u001b[0m                                 Traceback (most recent call last)",
      "Cell \u001b[0;32mIn[15], line 9\u001b[0m\n\u001b[1;32m      2\u001b[0m param_grid \u001b[38;5;241m=\u001b[39m {\n\u001b[1;32m      3\u001b[0m     \u001b[38;5;124m'\u001b[39m\u001b[38;5;124mclassifier__n_estimators\u001b[39m\u001b[38;5;124m'\u001b[39m: [\u001b[38;5;241m50\u001b[39m, \u001b[38;5;241m100\u001b[39m, \u001b[38;5;241m200\u001b[39m],\n\u001b[1;32m      4\u001b[0m     \u001b[38;5;124m'\u001b[39m\u001b[38;5;124mclassifier__max_depth\u001b[39m\u001b[38;5;124m'\u001b[39m: [\u001b[38;5;241m3\u001b[39m, \u001b[38;5;241m5\u001b[39m, \u001b[38;5;241m7\u001b[39m],\n\u001b[1;32m      5\u001b[0m     \u001b[38;5;124m'\u001b[39m\u001b[38;5;124mclassifier__learning_rate\u001b[39m\u001b[38;5;124m'\u001b[39m: [\u001b[38;5;241m0.01\u001b[39m, \u001b[38;5;241m0.1\u001b[39m, \u001b[38;5;241m0.2\u001b[39m]\n\u001b[1;32m      6\u001b[0m }\n\u001b[1;32m      8\u001b[0m \u001b[38;5;66;03m# Grid Search\u001b[39;00m\n\u001b[0;32m----> 9\u001b[0m grid_search \u001b[38;5;241m=\u001b[39m GridSearchCV(model, param_grid, cv\u001b[38;5;241m=\u001b[39m\u001b[38;5;241m5\u001b[39m, scoring\u001b[38;5;241m=\u001b[39m\u001b[38;5;124m'\u001b[39m\u001b[38;5;124mroc_auc\u001b[39m\u001b[38;5;124m'\u001b[39m)\n\u001b[1;32m     10\u001b[0m grid_search\u001b[38;5;241m.\u001b[39mfit(X_train, y_train)\n\u001b[1;32m     12\u001b[0m \u001b[38;5;66;03m# Best Parameters\u001b[39;00m\n",
      "\u001b[0;31mNameError\u001b[0m: name 'model' is not defined"
     ]
    }
   ],
   "source": [
    "# Hyperparameter Grid\n",
    "param_grid = {\n",
    "    'classifier__n_estimators': [50, 100, 200],\n",
    "    'classifier__max_depth': [3, 5, 7],\n",
    "    'classifier__learning_rate': [0.01, 0.1, 0.2]\n",
    "}\n",
    "\n",
    "# Grid Search\n",
    "grid_search = GridSearchCV(model, param_grid, cv=5, scoring='roc_auc')\n",
    "grid_search.fit(X_train, y_train)\n",
    "\n",
    "# Best Parameters\n",
    "print(\"Best Parameters:\", grid_search.best_params_)"
   ]
  },
  {
   "cell_type": "markdown",
   "id": "28813376-dee4-40ab-b370-2784400f184f",
   "metadata": {},
   "source": [
    "Step 8: Evaluate the Model"
   ]
  },
  {
   "cell_type": "code",
   "execution_count": 16,
   "id": "18d6e15e-da6b-4596-8dd0-57c2ecdb687d",
   "metadata": {},
   "outputs": [
    {
     "ename": "NameError",
     "evalue": "name 'grid_search' is not defined",
     "output_type": "error",
     "traceback": [
      "\u001b[0;31m---------------------------------------------------------------------------\u001b[0m",
      "\u001b[0;31mNameError\u001b[0m                                 Traceback (most recent call last)",
      "Cell \u001b[0;32mIn[16], line 2\u001b[0m\n\u001b[1;32m      1\u001b[0m \u001b[38;5;66;03m# Predict Probabilities\u001b[39;00m\n\u001b[0;32m----> 2\u001b[0m y_pred_proba \u001b[38;5;241m=\u001b[39m grid_search\u001b[38;5;241m.\u001b[39mpredict_proba(X_test)[:, \u001b[38;5;241m1\u001b[39m]\n\u001b[1;32m      4\u001b[0m \u001b[38;5;66;03m# ROC-AUC Score\u001b[39;00m\n\u001b[1;32m      5\u001b[0m roc_auc \u001b[38;5;241m=\u001b[39m roc_auc_score(y_test, y_pred_proba)\n",
      "\u001b[0;31mNameError\u001b[0m: name 'grid_search' is not defined"
     ]
    }
   ],
   "source": [
    "# Predict Probabilities\n",
    "y_pred_proba = grid_search.predict_proba(X_test)[:, 1]\n",
    "\n",
    "# ROC-AUC Score\n",
    "roc_auc = roc_auc_score(y_test, y_pred_proba)\n",
    "print(f\"ROC-AUC: {roc_auc:.2f}\")\n",
    "\n",
    "# Plot ROC Curve\n",
    "fpr, tpr, _ = roc_curve(y_test, y_pred_proba)\n",
    "plt.plot(fpr, tpr, label=f\"AUC = {roc_auc:.2f}\")\n",
    "plt.legend()\n",
    "plt.show()\n",
    "\n",
    "# Classification Report\n",
    "y_pred = grid_search.predict(X_test)\n",
    "print(classification_report(y_test, y_pred))"
   ]
  },
  {
   "cell_type": "markdown",
   "id": "902a9944-b4ee-4158-8f4f-13012dd9a885",
   "metadata": {},
   "source": [
    "Step 9: Deploy the Model"
   ]
  },
  {
   "cell_type": "code",
   "execution_count": 17,
   "id": "0174b004-af32-4b76-b835-c9882790e2d5",
   "metadata": {},
   "outputs": [
    {
     "ename": "NameError",
     "evalue": "name 'grid_search' is not defined",
     "output_type": "error",
     "traceback": [
      "\u001b[0;31m---------------------------------------------------------------------------\u001b[0m",
      "\u001b[0;31mNameError\u001b[0m                                 Traceback (most recent call last)",
      "Cell \u001b[0;32mIn[17], line 3\u001b[0m\n\u001b[1;32m      1\u001b[0m \u001b[38;5;66;03m# Save Model\u001b[39;00m\n\u001b[1;32m      2\u001b[0m \u001b[38;5;28;01mimport\u001b[39;00m\u001b[38;5;250m \u001b[39m\u001b[38;5;21;01mjoblib\u001b[39;00m\n\u001b[0;32m----> 3\u001b[0m joblib\u001b[38;5;241m.\u001b[39mdump(grid_search, \u001b[38;5;124m\"\u001b[39m\u001b[38;5;124mipo_model.pkl\u001b[39m\u001b[38;5;124m\"\u001b[39m)\n",
      "\u001b[0;31mNameError\u001b[0m: name 'grid_search' is not defined"
     ]
    }
   ],
   "source": [
    "# Save Model\n",
    "import joblib\n",
    "joblib.dump(grid_search, \"ipo_model.pkl\")\n",
    "\n"
   ]
  },
  {
   "cell_type": "markdown",
   "id": "ec6fb0e1-1862-4abb-8a45-7197bcd169c3",
   "metadata": {},
   "source": [
    "Step 10: Run the Streamlit App"
   ]
  },
  {
   "cell_type": "code",
   "execution_count": 18,
   "id": "a50925c8-fc54-4fbb-bfed-998ba4755324",
   "metadata": {},
   "outputs": [
    {
     "ename": "SyntaxError",
     "evalue": "invalid syntax (3737097518.py, line 1)",
     "output_type": "error",
     "traceback": [
      "\u001b[0;36m  Cell \u001b[0;32mIn[18], line 1\u001b[0;36m\u001b[0m\n\u001b[0;31m    streamlit run app.py\u001b[0m\n\u001b[0m              ^\u001b[0m\n\u001b[0;31mSyntaxError\u001b[0m\u001b[0;31m:\u001b[0m invalid syntax\n"
     ]
    }
   ],
   "source": [
    "streamlit run app.py"
   ]
  },
  {
   "cell_type": "code",
   "execution_count": null,
   "id": "0a572ad7-b208-4bd3-80cc-a1616bbac2c9",
   "metadata": {},
   "outputs": [],
   "source": []
  }
 ],
 "metadata": {
  "kernelspec": {
   "display_name": "Python 3 (ipykernel)",
   "language": "python",
   "name": "python3"
  },
  "language_info": {
   "codemirror_mode": {
    "name": "ipython",
    "version": 3
   },
   "file_extension": ".py",
   "mimetype": "text/x-python",
   "name": "python",
   "nbconvert_exporter": "python",
   "pygments_lexer": "ipython3",
   "version": "3.13.5"
  }
 },
 "nbformat": 4,
 "nbformat_minor": 5
}
